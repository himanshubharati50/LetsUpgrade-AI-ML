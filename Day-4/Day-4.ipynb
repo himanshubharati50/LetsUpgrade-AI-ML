{
 "cells": [
  {
   "cell_type": "markdown",
   "metadata": {},
   "source": [
    "# Day:4 - Himanshu's Assignment"
   ]
  },
  {
   "cell_type": "markdown",
   "metadata": {},
   "source": [
    "## Question.1"
   ]
  },
  {
   "cell_type": "markdown",
   "metadata": {},
   "source": [
    "Research on whether addition, subtraction, multiplication, division, floor division and modulo operations be performed on complex numbers. Based on your study, implement a Python program to demonstrate these operations."
   ]
  },
  {
   "cell_type": "code",
   "execution_count": 1,
   "metadata": {},
   "outputs": [
    {
     "name": "stdout",
     "output_type": "stream",
     "text": [
      "(2+1j)\n",
      "(8+7j)\n",
      "(3+27j)\n",
      "(1.5-0.16666666666666666j)\n"
     ]
    }
   ],
   "source": [
    "p = 5+4j\n",
    "q = 3+3j\n",
    "\n",
    "print(p-q)\n",
    "print(p+q)\n",
    "print(p*q)\n",
    "print(p/q)"
   ]
  },
  {
   "cell_type": "markdown",
   "metadata": {},
   "source": [
    "## Question.2"
   ]
  },
  {
   "cell_type": "markdown",
   "metadata": {},
   "source": [
    "Research on range() functions and its parameters. Create a markdown cell and write in your own words (no copy-paste from google please) what you understand about it. Implement a small program of your choice on the same."
   ]
  },
  {
   "cell_type": "markdown",
   "metadata": {},
   "source": [
    "\n",
    "1.Definition : The range() function returns a sequence of numbers, starting from 0 by default, and increments by 1 (by   default), and stops before a specified number.\n",
    "\n",
    "2.Syntax : range(start, stop, step)\n",
    "\n",
    "3.Step denotes the incremention of te range\n"
   ]
  },
  {
   "cell_type": "code",
   "execution_count": 2,
   "metadata": {},
   "outputs": [
    {
     "name": "stdout",
     "output_type": "stream",
     "text": [
      "0\n",
      "1\n",
      "2\n",
      "3\n",
      "4\n"
     ]
    }
   ],
   "source": [
    "for i in range(5):\n",
    "    print(i)"
   ]
  },
  {
   "cell_type": "markdown",
   "metadata": {},
   "source": [
    "## Question.3"
   ]
  },
  {
   "cell_type": "markdown",
   "metadata": {},
   "source": [
    "Consider two numbers. Perform their subtraction and if the result of subtraction is greater than 25, print their multiplication result else print their division result"
   ]
  },
  {
   "cell_type": "code",
   "execution_count": 3,
   "metadata": {},
   "outputs": [
    {
     "name": "stdout",
     "output_type": "stream",
     "text": [
      "Multiplication of two numbers : 1000\n"
     ]
    }
   ],
   "source": [
    "x = 100\n",
    "y = 10\n",
    "z = x-y\n",
    "\n",
    "if (z>25):\n",
    "    print(\"Multiplication of two numbers :\",x*y)\n",
    "else:\n",
    "    print(\"Division of two numbers :\",x/y)"
   ]
  },
  {
   "cell_type": "markdown",
   "metadata": {},
   "source": [
    "## Question.4"
   ]
  },
  {
   "cell_type": "markdown",
   "metadata": {},
   "source": [
    "Consider a list of 10 elements of integer values. If the number in the list is divisible by 2, print the result as \"square of that number minus 2\"."
   ]
  },
  {
   "cell_type": "code",
   "execution_count": 4,
   "metadata": {},
   "outputs": [
    {
     "name": "stdout",
     "output_type": "stream",
     "text": [
      "2 : square of that number minus 2\n",
      "4 : square of that number minus 2\n",
      "6 : square of that number minus 2\n",
      "8 : square of that number minus 2\n",
      "10 : square of that number minus 2\n"
     ]
    }
   ],
   "source": [
    "List_num = [2,4,3,5,7,9,6,8,10,1]\n",
    "\n",
    "for i in List_num:\n",
    "    if(i % 2 ==0):\n",
    "        print(i,\": square of that number minus 2\")     \n",
    "        "
   ]
  },
  {
   "cell_type": "markdown",
   "metadata": {},
   "source": [
    "## Question.5 "
   ]
  },
  {
   "cell_type": "markdown",
   "metadata": {},
   "source": [
    "Consider a list of 10 elements. Print all the elements in the list which are greater than 7 when that number is divided 2."
   ]
  },
  {
   "cell_type": "code",
   "execution_count": 5,
   "metadata": {},
   "outputs": [
    {
     "name": "stdout",
     "output_type": "stream",
     "text": [
      "The number is divisible by 2 and greater than 7 : 16\n",
      "The number is divisible by 2 and greater than 7 : 18\n",
      "The number is divisible by 2 and greater than 7 : 24\n",
      "The number is divisible by 2 and greater than 7 : 30\n"
     ]
    }
   ],
   "source": [
    "List_ele = [2,16,10,3,5,7,1,3,6,9,12,15,18,21,24,27,30]\n",
    "          \n",
    "for i in List_ele:\n",
    "    if((i%2 ==0) and (i/2 > 7)):\n",
    "        print('The number is divisible by 2 and greater than 7 :',i)"
   ]
  }
 ],
 "metadata": {
  "kernelspec": {
   "display_name": "Python 3",
   "language": "python",
   "name": "python3"
  },
  "language_info": {
   "codemirror_mode": {
    "name": "ipython",
    "version": 3
   },
   "file_extension": ".py",
   "mimetype": "text/x-python",
   "name": "python",
   "nbconvert_exporter": "python",
   "pygments_lexer": "ipython3",
   "version": "3.7.3"
  }
 },
 "nbformat": 4,
 "nbformat_minor": 2
}
