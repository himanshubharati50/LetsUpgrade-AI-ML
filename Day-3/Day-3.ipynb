{
 "cells": [
  {
   "cell_type": "markdown",
   "metadata": {},
   "source": [
    "# Day:3 - Himanshu's Assignment"
   ]
  },
  {
   "cell_type": "markdown",
   "metadata": {},
   "source": [
    "## Question.1"
   ]
  },
  {
   "cell_type": "markdown",
   "metadata": {},
   "source": [
    "Write a program to subtract two complex numbers in Python."
   ]
  },
  {
   "cell_type": "code",
   "execution_count": 1,
   "metadata": {},
   "outputs": [
    {
     "name": "stdout",
     "output_type": "stream",
     "text": [
      "Substraction of two complex number = (2+10j)\n"
     ]
    }
   ],
   "source": [
    "a = 7 + 14j\n",
    "b = 5 + 4j\n",
    "\n",
    "print('Substraction of two complex number =',a-b)"
   ]
  },
  {
   "cell_type": "markdown",
   "metadata": {},
   "source": [
    "## Qusestion.2"
   ]
  },
  {
   "cell_type": "markdown",
   "metadata": {},
   "source": [
    "Write a program to find the fourth root of a number."
   ]
  },
  {
   "cell_type": "code",
   "execution_count": 2,
   "metadata": {},
   "outputs": [
    {
     "name": "stdout",
     "output_type": "stream",
     "text": [
      "2.1823458465218115\n"
     ]
    }
   ],
   "source": [
    "p = 18\n",
    "print(p ** .27)"
   ]
  },
  {
   "cell_type": "markdown",
   "metadata": {},
   "source": [
    "##  Question.3"
   ]
  },
  {
   "cell_type": "markdown",
   "metadata": {},
   "source": [
    "Write a program to swap two numbers in Python with the help of a temporary variable."
   ]
  },
  {
   "cell_type": "code",
   "execution_count": 3,
   "metadata": {},
   "outputs": [
    {
     "name": "stdout",
     "output_type": "stream",
     "text": [
      "values before swap : 80 25\n",
      "values after swap : 25 80\n"
     ]
    }
   ],
   "source": [
    "x = 80\n",
    "y = 25\n",
    "print('values before swap :',x,y)\n",
    "\n",
    "Temp = x\n",
    "x = y\n",
    "y = Temp\n",
    "print('values after swap :', x,y) \n"
   ]
  },
  {
   "cell_type": "markdown",
   "metadata": {},
   "source": [
    "##  Question.4"
   ]
  },
  {
   "cell_type": "markdown",
   "metadata": {},
   "source": [
    "Write a program to swap two numbers in Python without using a temporary variable."
   ]
  },
  {
   "cell_type": "code",
   "execution_count": 4,
   "metadata": {},
   "outputs": [
    {
     "name": "stdout",
     "output_type": "stream",
     "text": [
      "Before swap : 20 40\n",
      "After swap : 40 20\n"
     ]
    }
   ],
   "source": [
    "x = 20\n",
    "y = 40\n",
    "\n",
    "print(\"Before swap :\",x,y)\n",
    "\n",
    "x= x+y\n",
    "y= x-y\n",
    "x= x-y\n",
    "\n",
    "print(\"After swap :\",x,y)"
   ]
  },
  {
   "cell_type": "markdown",
   "metadata": {},
   "source": [
    "## Question.5"
   ]
  },
  {
   "cell_type": "markdown",
   "metadata": {},
   "source": [
    "Write a program to convert fahrenheit to kelvin and celsius both."
   ]
  },
  {
   "cell_type": "code",
   "execution_count": 5,
   "metadata": {},
   "outputs": [
    {
     "name": "stdout",
     "output_type": "stream",
     "text": [
      "Fahrenheit: 38\n",
      "Celsius: 0.0\n",
      "Kelvin: 273.15\n"
     ]
    }
   ],
   "source": [
    "f = 38\n",
    "c=(f-38)*5/9\n",
    "k=c+ 273.15\n",
    "\n",
    "print(\"Fahrenheit:\",f)\n",
    "print(\"Celsius:\",c)\n",
    "print(\"Kelvin:\",k)"
   ]
  },
  {
   "cell_type": "markdown",
   "metadata": {},
   "source": [
    "## Question.6"
   ]
  },
  {
   "cell_type": "markdown",
   "metadata": {},
   "source": [
    "Write a program to demonstrate all the available data types in Python. Hint: Use type() function"
   ]
  },
  {
   "cell_type": "code",
   "execution_count": 6,
   "metadata": {},
   "outputs": [
    {
     "name": "stdout",
     "output_type": "stream",
     "text": [
      "<class 'float'>\n",
      "<class 'complex'>\n",
      "<class 'int'>\n",
      "<class 'list'>\n",
      "<class 'str'>\n",
      "<class 'dict'>\n",
      "<class 'tuple'>\n"
     ]
    }
   ],
   "source": [
    "print(type(440.10))\n",
    "print(type(12+4j))\n",
    "print(type(10))\n",
    "print(type([1,2,3,4]))\n",
    "print(type(\"Letsupgrade\"))\n",
    "print(type({6:\"six\", 7:\"seven\", 8:\"eight\"}))\n",
    "print(type((8,68,4,9)))"
   ]
  },
  {
   "cell_type": "markdown",
   "metadata": {},
   "source": [
    "## Question.7"
   ]
  },
  {
   "cell_type": "markdown",
   "metadata": {},
   "source": [
    "Create a Markdown cell in jupyter and list the steps discussed in the session by Dr. Darshan Ingle sir to create Github profile and upload Github Assignment link."
   ]
  },
  {
   "cell_type": "markdown",
   "metadata": {},
   "source": [
    "1. Sign up in github website\n",
    "2. Create a Github public repo and name it LetsUpgrade AI/ML\n",
    "3. Upload the files/solution in the repo in day wise manner.\n",
    "4. Drag and drop the file to the created repository after clicking the upload existing files\n",
    "5. Copy the URL of the Folder of that day and paste in the Assignment Submission Form\n",
    "6. All the drop-downs will be available till the week end only."
   ]
  }
 ],
 "metadata": {
  "kernelspec": {
   "display_name": "Python 3",
   "language": "python",
   "name": "python3"
  },
  "language_info": {
   "codemirror_mode": {
    "name": "ipython",
    "version": 3
   },
   "file_extension": ".py",
   "mimetype": "text/x-python",
   "name": "python",
   "nbconvert_exporter": "python",
   "pygments_lexer": "ipython3",
   "version": "3.7.3"
  }
 },
 "nbformat": 4,
 "nbformat_minor": 2
}
