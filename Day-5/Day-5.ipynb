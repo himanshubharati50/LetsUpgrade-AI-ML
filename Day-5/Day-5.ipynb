{
 "cells": [
  {
   "cell_type": "markdown",
   "metadata": {},
   "source": [
    "# Day:5 - Himanshu's Assignment"
   ]
  },
  {
   "cell_type": "markdown",
   "metadata": {},
   "source": [
    "## Question.1"
   ]
  },
  {
   "cell_type": "markdown",
   "metadata": {},
   "source": [
    "Write a Python program to find the first 20 non-even prime natural numbers."
   ]
  },
  {
   "cell_type": "code",
   "execution_count": 1,
   "metadata": {},
   "outputs": [
    {
     "name": "stdout",
     "output_type": "stream",
     "text": [
      "[3, 5, 7, 11, 13, 17, 19, 23, 29, 31, 37, 41, 43, 47, 53, 59, 61, 67, 71, 73]\n"
     ]
    }
   ],
   "source": [
    "Non_even_prime =[]\n",
    "Num =1\n",
    "\n",
    "while (len(Non_even_prime) < 20):\n",
    "    div = []\n",
    "   \n",
    "    for i in range(1,Num+1):\n",
    "        if (Num%i == 0):\n",
    "            div.append(i)\n",
    "\n",
    "    if (len(div) == 2 and Num%2 !=0):\n",
    "        Non_even_prime.append(Num)\n",
    "        \n",
    "    div.clear()   \n",
    "    Num = Num + 1\n",
    "\n",
    "print(Non_even_prime)"
   ]
  },
  {
   "cell_type": "markdown",
   "metadata": {},
   "source": [
    "## Question.2 "
   ]
  },
  {
   "cell_type": "markdown",
   "metadata": {},
   "source": [
    "Write a Python program to implement 15 functions of string"
   ]
  },
  {
   "cell_type": "code",
   "execution_count": 2,
   "metadata": {},
   "outputs": [
    {
     "name": "stdout",
     "output_type": "stream",
     "text": [
      "We are learning AI ML with letsupgrade.\n",
      "WE ARE LEARNING AI ML WITH LETSUPGRADE.\n",
      "1\n",
      "False\n",
      "we are learning ai ml with letsupgrade.\n",
      "wE ARE LEARNING ai ml WITH LETSUPGRADE.\n",
      "False\n",
      "We are learning python with letsupgrade.\n",
      "True\n",
      "We Are Learning Ai Ml With Letsupgrade.\n",
      "['We', 'are', 'learning', 'AI', 'ML', 'with', 'letsupgrade.']\n",
      "We are learning ai ml with letsupgrade.\n",
      "                              We are learning AI ML with letsupgrade.                               \n",
      "22\n",
      "False\n",
      "Himanshu are learning AI ML with letsupgrade.\n"
     ]
    }
   ],
   "source": [
    "my_str='We are learning AI ML with letsupgrade.'\n",
    "print(my_str)#Student is learning python and they are happy\n",
    "\n",
    "#Methods\n",
    "print(my_str.upper())\n",
    "print(my_str.count('We'))\n",
    "print(my_str.isnumeric())\n",
    "print(my_str.lower())\n",
    "print(my_str.swapcase())\n",
    "print(my_str.endswith('letsupgrade'))\n",
    "print(my_str.replace('AI ML','python',))\n",
    "print(my_str.isprintable())\n",
    "print(my_str.title())\n",
    "print(my_str.split())\n",
    "print(my_str.capitalize())\n",
    "print(my_str.center(100))\n",
    "print(my_str.find(\"with\"))\n",
    "print(my_str.isalpha())\n",
    "print(my_str.replace(\"We\",\"Himanshu\"))"
   ]
  },
  {
   "cell_type": "markdown",
   "metadata": {},
   "source": [
    "## Question.3 "
   ]
  },
  {
   "cell_type": "markdown",
   "metadata": {},
   "source": [
    "Write a Python program to check if the given string is a Palindrome or Anagram or None of them. Display the message accordingly to the user."
   ]
  },
  {
   "cell_type": "code",
   "execution_count": 3,
   "metadata": {},
   "outputs": [
    {
     "name": "stdout",
     "output_type": "stream",
     "text": [
      "First string: dad\n",
      "Second string: racecar\n",
      "The given word is palindrome\n"
     ]
    }
   ],
   "source": [
    "a=input(\"First string: \")\n",
    "b=input(\"Second string: \")\n",
    "\n",
    "\n",
    "X=[]\n",
    "for i in a:\n",
    "    X.append(i)\n",
    "if X==X[::-1]:\n",
    "    print(\"The given word is palindrome\")\n",
    "elif (sorted(a)==sorted(b)):\n",
    "    print(\"The strings are Anagram\")\n",
    "else:\n",
    "    print(\"None of the above !!!\")"
   ]
  },
  {
   "cell_type": "markdown",
   "metadata": {},
   "source": [
    "## Question.4 "
   ]
  },
  {
   "cell_type": "markdown",
   "metadata": {},
   "source": [
    "Write a Python's user defined function that removes all the additional characters from the string and converts it finally to lower case using built-in lower(). "
   ]
  },
  {
   "cell_type": "code",
   "execution_count": 4,
   "metadata": {},
   "outputs": [
    {
     "name": "stdout",
     "output_type": "stream",
     "text": [
      "WelcomeToLetsUpgrade\n"
     ]
    }
   ],
   "source": [
    "sentence = \"*$*//Welcome To LetsUpgrade//*$*\"\n",
    "p = \"\"\n",
    "\n",
    "for i in range(len(sentence)):\n",
    "    if(sentence[i].isalnum()):\n",
    "        p = p+sentence[i]\n",
    "print(p)\n",
    "\n"
   ]
  }
 ],
 "metadata": {
  "kernelspec": {
   "display_name": "Python 3",
   "language": "python",
   "name": "python3"
  },
  "language_info": {
   "codemirror_mode": {
    "name": "ipython",
    "version": 3
   },
   "file_extension": ".py",
   "mimetype": "text/x-python",
   "name": "python",
   "nbconvert_exporter": "python",
   "pygments_lexer": "ipython3",
   "version": "3.7.3"
  }
 },
 "nbformat": 4,
 "nbformat_minor": 2
}
