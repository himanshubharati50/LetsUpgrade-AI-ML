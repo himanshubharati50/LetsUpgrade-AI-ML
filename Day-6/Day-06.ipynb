{
 "cells": [
  {
   "cell_type": "markdown",
   "metadata": {},
   "source": [
    "# Day:6 - Himanshu's Assignment"
   ]
  },
  {
   "cell_type": "markdown",
   "metadata": {},
   "source": [
    "## Question.1\n"
   ]
  },
  {
   "cell_type": "markdown",
   "metadata": {},
   "source": [
    "1. Assuming that we have some email addresses in the \"username@companyname.com\" format, please write program to print the company name of a given email address. Both user names and company names are composed of letters only."
   ]
  },
  {
   "cell_type": "code",
   "execution_count": 3,
   "metadata": {},
   "outputs": [
    {
     "name": "stdout",
     "output_type": "stream",
     "text": [
      "Username is Joe@gmail.com and Company Name is gmail\n",
      "Username is Jack@yahoo.com and Company Name is yahoo\n"
     ]
    }
   ],
   "source": [
    "def getCompanyName( str1 ):\n",
    "    chunk1 = str1.split('@')\n",
    "    chunk2 = chunk1[1].split('.')\n",
    "    return chunk2[0]\n",
    "    email_a = 'Joe@gmail.com'\n",
    "    email_b = 'Jack@yahoo.com'\n",
    "\n",
    "print( f\"Username is { email_a } and Company Name is { getCompanyName(email_a) }\" )\n",
    "print( f\"Username is { email_b } and Company Name is { getCompanyName(email_b) }\" )"
   ]
  },
  {
   "cell_type": "markdown",
   "metadata": {},
   "source": [
    "## Question.2 "
   ]
  },
  {
   "cell_type": "markdown",
   "metadata": {},
   "source": [
    "Write a program that accepts a comma-separated sequence of words as input and prints the words in a comma separated sequence after sorting them alphabetically."
   ]
  },
  {
   "cell_type": "code",
   "execution_count": 5,
   "metadata": {},
   "outputs": [
    {
     "name": "stdout",
     "output_type": "stream",
     "text": [
      "hello,bag,world\n",
      "Base List :  ['hello', 'bag', 'world']\n",
      "Sorted List :  bag,hello,world\n"
     ]
    }
   ],
   "source": [
    "List = input().split(',')\n",
    "print( 'Base List : ', List )\n",
    "print( 'Sorted List : ',\",\".join( sorted(List) ) )"
   ]
  },
  {
   "cell_type": "markdown",
   "metadata": {},
   "source": [
    "## Question.3"
   ]
  },
  {
   "cell_type": "markdown",
   "metadata": {},
   "source": [
    "1.Collection which has Unique Values i.e. Removes Duplicate Values\n",
    "2.Concatenation Operation is not allowed\n",
    "3.Considers Case Change as a Different Element : for String Elements\n",
    "4.Set() Returns an Unordered Set : Elements will not necessarily be in a Sorted Order\n",
    "5.Set Operations like Union, Intersection, Set Difference are allowed"
   ]
  },
  {
   "cell_type": "code",
   "execution_count": 7,
   "metadata": {},
   "outputs": [
    {
     "name": "stdout",
     "output_type": "stream",
     "text": [
      "List with duplicates: [1, 1, 2, 3, 4, 'Jack', 12, 1, 'jack', 2, 4, 8, 'joe', 12, 'Joe', 1, 1, 4, 5]\n",
      "Set 2 without duplicates :  {1, 2, 3, 4, 5, 'Joe', 8, 'jack', 12, 'Jack', 'joe'}\n"
     ]
    }
   ],
   "source": [
    "list_1 = [1,1,2,3,4,'Jack',12,1,'jack',2,4,8,'joe',12,'Joe',1,1,4,5]\n",
    "print( 'List with duplicates:', list_1 )\n",
    "set_1 = set ([1,1,2,3,4,'Jack',12,1,'Joe',2,4,8,'jack',12,'joe',1,1,4,5])\n",
    "print( 'Set 2 without duplicates : ', set_1 )"
   ]
  },
  {
   "cell_type": "code",
   "execution_count": 10,
   "metadata": {},
   "outputs": [
    {
     "name": "stdout",
     "output_type": "stream",
     "text": [
      " Set 1 without duplicates :  {1, 2, 3, 4, 5, 8, 9, 12}\n",
      " Set 2 without duplicates :  {1, 2, 3, 4, 5, 'Joe', 8, 'jack', 12, 'Jack', 'joe'}\n",
      " Set Union :  {1, 2, 3, 4, 5, 'Joe', 8, 9, 'jack', 12, 'Jack', 'joe'}\n",
      " Set Intersection :  {1, 2, 3, 4, 5, 8, 12}\n",
      " Set (2-1) Difference :  {'Jack', 'jack', 'joe', 'Joe'}\n",
      " Set (1-2) Difference :  {9}\n",
      " Set are Disjoint :  False\n"
     ]
    }
   ],
   "source": [
    "my_set = set( [1,1,2,3,4,5,12,1,3,2,4,8,9,12,12,1,1,4,5] )\n",
    "print( ' Set 1 without duplicates : ', my_set )\n",
    "print( ' Set 2 without duplicates : ', set_1 )\n",
    "print( ' Set Union : ', set_1.union(my_set) )\n",
    "print( ' Set Intersection : ', set_1.intersection(my_set) )\n",
    "print( ' Set (2-1) Difference : ', set_1.difference(my_set) )\n",
    "print( ' Set (1-2) Difference : ', my_set.difference(set_1) )\n",
    "print( ' Set are Disjoint : ', my_set.isdisjoint(set_1) )"
   ]
  },
  {
   "cell_type": "markdown",
   "metadata": {},
   "source": [
    "## Question.4 "
   ]
  },
  {
   "cell_type": "markdown",
   "metadata": {},
   "source": [
    "Given a list of n-1 numbers ranging from 1 to n, your task is to find the missing number. There are no duplicates."
   ]
  },
  {
   "cell_type": "code",
   "execution_count": 12,
   "metadata": {},
   "outputs": [
    {
     "name": "stdout",
     "output_type": "stream",
     "text": [
      "Original List :  [1, 2, 3, 4, 6, 8]\n",
      "Sorted List :  [1, 2, 3, 4, 6, 8]\n",
      "Missing Number :  5\n"
     ]
    }
   ],
   "source": [
    "num_list = [ 1,2,3,4,6,8 ]\n",
    "print( 'Original List : ',  num_list )\n",
    "num_list = sorted( num_list )\n",
    "print( 'Sorted List : ',  num_list )\n",
    "\n",
    "j = 0\n",
    "for i in range( num_list[0], num_list[ len(num_list)-1 ] ):\n",
    "    if i != num_list[j]:\n",
    "        print( 'Missing Number : ', i )\n",
    "        break\n",
    "    else:\n",
    "        j = j+1"
   ]
  },
  {
   "cell_type": "markdown",
   "metadata": {},
   "source": [
    "## Question.5 "
   ]
  },
  {
   "cell_type": "markdown",
   "metadata": {},
   "source": [
    "With a given list L, write a program to print this list L after removing all duplicate values with original order reserved."
   ]
  },
  {
   "cell_type": "code",
   "execution_count": 14,
   "metadata": {},
   "outputs": [
    {
     "name": "stdout",
     "output_type": "stream",
     "text": [
      "Original List :  [12, 24, 35, 24, 88, 120, 155, 108, 63, 97, 55, 79, 8]\n",
      "List with duplicates removed:  [97, 35, 8, 12, 155, 108, 79, 55, 24, 88, 120, 63]\n",
      "Ascending Order : 8,12,24,35,55,63,79,88,97,108,120,155,\n",
      "Descending Order : 155,120,108,97,88,79,63,55,35,24,12,8,"
     ]
    }
   ],
   "source": [
    "num_list_2 = [ 12 , 24 , 35 , 24 , 88 , 120 , 155 , 108 , 63 , 97, 55, 79, 8 ]\n",
    "print( 'Original List : ',  num_list_2 )\n",
    "\n",
    "num_list_2 = list( set( num_list_2 ) )\n",
    "print( 'List with duplicates removed: ',  num_list_2 )\n",
    "\n",
    "print( 'Ascending Order :', end=' ' )\n",
    "for i in sorted(num_list_2):\n",
    "    print( i, end=',' )\n",
    "print()\n",
    "print( 'Descending Order :', end=' ' )\n",
    "for i in sorted(num_list_2, reverse=True):\n",
    "    print( i, end=',' )"
   ]
  }
 ],
 "metadata": {
  "kernelspec": {
   "display_name": "Python 3",
   "language": "python",
   "name": "python3"
  },
  "language_info": {
   "codemirror_mode": {
    "name": "ipython",
    "version": 3
   },
   "file_extension": ".py",
   "mimetype": "text/x-python",
   "name": "python",
   "nbconvert_exporter": "python",
   "pygments_lexer": "ipython3",
   "version": "3.7.3"
  }
 },
 "nbformat": 4,
 "nbformat_minor": 2
}
